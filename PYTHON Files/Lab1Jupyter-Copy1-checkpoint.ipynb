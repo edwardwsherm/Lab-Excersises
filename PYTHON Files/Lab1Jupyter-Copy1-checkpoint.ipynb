{
 "cells": [
  {
   "cell_type": "code",
   "execution_count": 4,
   "id": "a9631470",
   "metadata": {},
   "outputs": [
    {
     "name": "stdout",
     "output_type": "stream",
     "text": [
      "The word(s) that is/are the longest: ['chestnut', 'gargoyle']\n"
     ]
    }
   ],
   "source": [
    "#See the list below.\n",
    "#  Please write a program that will tell you what the longest word is in the list.\n",
    "#  Package your program inside of a function.\n",
    "\n",
    "def longest_wrd():\n",
    "    list = [\"apple\", \"chestnut\", \"gargoyle\", \"pandas\", \"sheep\", \"raptor\"]\n",
    "    length_list = []\n",
    "    longest_word_list = []\n",
    "    for x in list:\n",
    "        length_list.append(len(x))\n",
    "    longest_word_length = max(length_list)\n",
    "    for x in list:\n",
    "        if longest_word_length == len(x):\n",
    "            longest_word_list.append(x)\n",
    "    print(f\"The word(s) that is/are the longest: {longest_word_list}\")\n",
    "longest_wrd()\n",
    "\n"
   ]
  },
  {
   "cell_type": "code",
   "execution_count": 3,
   "id": "d2080d4c",
   "metadata": {},
   "outputs": [
    {
     "ename": "NameError",
     "evalue": "name 'txtdoc' is not defined",
     "output_type": "error",
     "traceback": [
      "\u001b[0;31m---------------------------------------------------------------------------\u001b[0m",
      "\u001b[0;31mNameError\u001b[0m                                 Traceback (most recent call last)",
      "Input \u001b[0;32mIn [3]\u001b[0m, in \u001b[0;36m<cell line: 2>\u001b[0;34m()\u001b[0m\n\u001b[1;32m      1\u001b[0m new_list \u001b[38;5;241m=\u001b[39m []\n\u001b[0;32m----> 2\u001b[0m new_list\u001b[38;5;241m.\u001b[39mappend(\u001b[38;5;28mopen\u001b[39m(\u001b[43mtxtdoc\u001b[49m\u001b[38;5;241m.\u001b[39mtxt))\n\u001b[1;32m      3\u001b[0m \u001b[38;5;28mprint\u001b[39m(new_list)\n",
      "\u001b[0;31mNameError\u001b[0m: name 'txtdoc' is not defined"
     ]
    }
   ],
   "source": [
    "new_list = []\n",
    "new_list.append(open(txtdoc.txt))\n",
    "print(new_list)"
   ]
  },
  {
   "cell_type": "code",
   "execution_count": null,
   "id": "7566f8d7",
   "metadata": {},
   "outputs": [],
   "source": []
  }
 ],
 "metadata": {
  "kernelspec": {
   "display_name": "Python 3",
   "language": "python",
   "name": "python3"
  },
  "language_info": {
   "codemirror_mode": {
    "name": "ipython",
    "version": 3
   },
   "file_extension": ".py",
   "mimetype": "text/x-python",
   "name": "python",
   "nbconvert_exporter": "python",
   "pygments_lexer": "ipython3",
   "version": "3.9.10 (v3.9.10:f2f3f53782, Jan 13 2022, 16:55:45) \n[Clang 13.0.0 (clang-1300.0.29.30)]"
  },
  "vscode": {
   "interpreter": {
    "hash": "aee8b7b246df8f9039afb4144a1f6fd8d2ca17a180786b69acc140d282b71a49"
   }
  }
 },
 "nbformat": 4,
 "nbformat_minor": 5
}
